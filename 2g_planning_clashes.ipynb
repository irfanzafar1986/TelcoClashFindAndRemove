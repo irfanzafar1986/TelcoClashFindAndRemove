{
 "cells": [
  {
   "cell_type": "code",
   "execution_count": 1,
   "id": "f441ec9d",
   "metadata": {},
   "outputs": [],
   "source": [
    "import pandas as pd\n",
    "from cells.Cell_2g import Cell_2g\n",
    "from tqdm import tqdm\n",
    "from datetime import datetime\n",
    "from geopy.distance import geodesic\n",
    "import math\n",
    "import multiprocess as mp\n",
    "import numpy as np\n",
    "import pickle"
   ]
  },
  {
   "cell_type": "code",
   "execution_count": 9,
   "id": "2c2c3b56",
   "metadata": {},
   "outputs": [],
   "source": [
    "## Import cell level data in below format\n",
    "## not linked with .mdb to keep it general for all vendors\n",
    "### Site,Cell,bcch,bsic,band,azimuth,long,lat"
   ]
  },
  {
   "cell_type": "code",
   "execution_count": 2,
   "id": "890cd14f",
   "metadata": {},
   "outputs": [],
   "source": [
    "# In production user will be asked for file\n",
    "cell_data=pd.read_csv(\"D:/Office backup/tools/python/rsi clash/Cells-2g-2022-08-29.csv\")"
   ]
  },
  {
   "cell_type": "code",
   "execution_count": 3,
   "id": "1635de4b",
   "metadata": {},
   "outputs": [],
   "source": [
    "# get site data separately  \n",
    "site_data=pd.read_csv(\"D:/Office backup/tools/python/rsi clash/Sites-2022-08-29.csv\")"
   ]
  },
  {
   "cell_type": "code",
   "execution_count": 28,
   "id": "fd82acaf",
   "metadata": {},
   "outputs": [],
   "source": [
    "def get_tier(curr_quad_dict):\n",
    "    ''' Takes a dictionary of current quads and appends tier in value'''\n",
    "    key=[]\n",
    "    val=[]    \n",
    "    for i in range(6):# we have 6 quads\n",
    "        curr_quad_dict={k: v for k, v in dict_for_tier.items() if v[2]==i} # filter dictionary for current quad\n",
    "        curr_quad_tier=sorted(curr_quad_dict.items(),key=lambda kv:kv[1][0])[:8]# Get first 7 tiers \n",
    "        for i,item in enumerate(curr_quad_tier):\n",
    "            key.append(item[0]) # Append current site as key\n",
    "            val.append((item[1][0],item[1][1],i)) # Append current values\n",
    "    return dict(zip(key,val))"
   ]
  },
  {
   "cell_type": "code",
   "execution_count": 30,
   "id": "1eeb7235",
   "metadata": {},
   "outputs": [
    {
     "ename": "IndentationError",
     "evalue": "expected an indented block (618134510.py, line 6)",
     "output_type": "error",
     "traceback": [
      "\u001b[1;36m  Input \u001b[1;32mIn [30]\u001b[1;36m\u001b[0m\n\u001b[1;33m    dist_angle_tier_dict={}\u001b[0m\n\u001b[1;37m    ^\u001b[0m\n\u001b[1;31mIndentationError\u001b[0m\u001b[1;31m:\u001b[0m expected an indented block\n"
     ]
    }
   ],
   "source": [
    "# We are calculating angle and distance between two sites\n",
    "# We will store this all in a dictionary \n",
    "\n",
    "def make_tiers(site_df1,total_sitedf):\n",
    "    dist_angle_tier_dict={}\n",
    "    for i,site1 in site_df1.iterrows():\n",
    "        dict_for_tier={}\n",
    "        for j,site2 in site_data.iterrows(): \n",
    "            if(site1.site==site2.site):\n",
    "                continue\n",
    "            dist=geodesic((site1.Latitude, site1.Longitude), (site2.Latitude, site2.Longitude)).meters\n",
    "            if(dist<20000):# skip sites more than 20 KM away take this distance from user in production envoirment\n",
    "                angle=(math.atan2(site2.Longitude - site1.Longitude, site2.Latitude - site1.Latitude)*180/math.pi+360)%360\n",
    "                quad=math.floor(angle/60)\n",
    "                dict_for_tier[site2.site]=(dist,angle,quad)# Add current site in temporary dictionary\n",
    "        dist_angle_tier_dict[site1.site]=get_tier(dict_for_tier) # Calculate tiers of the site once we have tiers we can filter them easily\n"
   ]
  },
  {
   "cell_type": "code",
   "execution_count": 12,
   "id": "a20b0b73",
   "metadata": {},
   "outputs": [
    {
     "name": "stdout",
     "output_type": "stream",
     "text": [
      "0:34:28.531950\n"
     ]
    }
   ],
   "source": [
    "start=datetime.now()\n",
    "def main():\n",
    "    manager=mp.Manager()\n",
    "    p1=mp.Process(target=firstprocess,args=())\n",
    "    p2=mp.Process(target=secondprocess,args=())\n",
    "    p3=mp.Process(target=thirdprocess,args=())\n",
    "    p4=mp.Process(target=fourthprocess,args=())\n",
    "    p5=mp.Process(target=fifthprocess,args=())\n",
    "    p6=mp.Process(target=sixthprocess,args=())\n",
    "    ####################### Start them all #################\n",
    "    p1.start()\n",
    "    p2.start()\n",
    "    p3.start()\n",
    "    p4.start()\n",
    "    p5.start()\n",
    "    p6.start()\n",
    "    ############### Join them all ##############################\n",
    "    p1.join()\n",
    "    p2.join()\n",
    "    p3.join()\n",
    "    p4.join()\n",
    "    p5.join()\n",
    "    p6.join()\n",
    "def firstprocess():\n",
    "    import site_dist_utils as u\n",
    "    u.make_site_tiers(0)\n",
    "def secondprocess():\n",
    "    import site_dist_utils as u\n",
    "    u.make_site_tiers(1)\n",
    "def thirdprocess():\n",
    "    import site_dist_utils as u\n",
    "    u.make_site_tiers(2)\n",
    "def fourthprocess():\n",
    "    import site_dist_utils as u\n",
    "    u.make_site_tiers(3)\n",
    "def fifthprocess():\n",
    "    import site_dist_utils as u\n",
    "    u.make_site_tiers(4)\n",
    "def sixthprocess():\n",
    "    import site_dist_utils as u\n",
    "    u.make_site_tiers(5)\n",
    "if __name__==\"__main__\":\n",
    "    main()\n",
    "print(datetime.now()-start)"
   ]
  },
  {
   "cell_type": "code",
   "execution_count": 3,
   "id": "6ada7409",
   "metadata": {},
   "outputs": [],
   "source": [
    "site_dict={}\n",
    "for i in range(6): ## We created 6 processes\n",
    "    file = open(f\"D:/Office backup/tools/python/rsi clash/final_dict_part{i}\", 'rb')\n",
    "    site_dict={**site_dict ,** pickle.load(file)}\n",
    "    "
   ]
  },
  {
   "cell_type": "code",
   "execution_count": 5,
   "id": "0a579ea6",
   "metadata": {},
   "outputs": [
    {
     "data": {
      "text/plain": [
       "3594"
      ]
     },
     "execution_count": 5,
     "metadata": {},
     "output_type": "execute_result"
    }
   ],
   "source": [
    "len(site_dict)"
   ]
  },
  {
   "cell_type": "code",
   "execution_count": 13,
   "id": "1b8310ef",
   "metadata": {},
   "outputs": [],
   "source": [
    "sorted_for_current_site=dict(sorted(temp.items(), key=lambda x: x[1][2]))"
   ]
  },
  {
   "cell_type": "code",
   "execution_count": 15,
   "id": "ec44b024",
   "metadata": {},
   "outputs": [],
   "source": [
    "# get cells which need to be checked"
   ]
  },
  {
   "cell_type": "code",
   "execution_count": 4,
   "id": "8e53c0a8",
   "metadata": {},
   "outputs": [
    {
     "name": "stderr",
     "output_type": "stream",
     "text": [
      "7818it [00:01, 5867.18it/s]\n"
     ]
    }
   ],
   "source": [
    "cell_list=[]\n",
    "for i,rows in tqdm(cell_data.iterrows()):\n",
    "    c=Cell_2g(rows.site, rows.cell,rows.Latitude,rows.Longitude,rows.BCCH,rows.Band,rows.Azimuth,rows.BSIC)\n",
    "    cell_list.append(c)"
   ]
  },
  {
   "cell_type": "code",
   "execution_count": 5,
   "id": "b1f809f0",
   "metadata": {},
   "outputs": [],
   "source": [
    "def generate_candid_cell_list(cella,site_dict,tier=5):\n",
    "    '''  returns cell list for cella with in allowed tier'''\n",
    "    curr_site=cella.site\n",
    "    candid_sites=site_dict[str(int(curr_site))] # take sites from dictionary\n",
    "    all_sites=dict(filter(lambda x: x[1][2]<=tier, candid_sites.items())) # take sites within check tier\n",
    "    return [cell for cell in cell_list if str(int(cell.site)) in all_sites]"
   ]
  },
  {
   "cell_type": "code",
   "execution_count": 6,
   "id": "436e83ca",
   "metadata": {
    "scrolled": false
   },
   "outputs": [
    {
     "name": "stderr",
     "output_type": "stream",
     "text": [
      "100%|██████████████████████████████████████████████████████████████████████████████████████████████████████████████████████████████████████████████████████████████████████████████████████████████████| 7818/7818 [00:44<00:00, 175.61it/s]\n"
     ]
    }
   ],
   "source": [
    "result=[]\n",
    "max_tier=10\n",
    "for cell in tqdm(cell_list):\n",
    "    candid_cell_list=generate_candid_cell_list(cell,site_dict,max_tier)\n",
    "    curr_clashes=[res for res in candid_cell_list if(cell.isBcchBsicClash(res))]\n",
    "    # Adjust tiering\n",
    "    for clashed_cell in curr_clashes:\n",
    "        site_site_rel=site_dict[str(int(cell.site))][str(int(clashed_cell.site))]\n",
    "        angle1=site_site_rel[1]-cell.azimuth\n",
    "        angle2=180+site_site_rel[1]-clashed_cell.azimuth\n",
    "        adj=math.cos(np.radians(angle1))+math.cos(np.radians(angle2))\n",
    "        prio=2+site_site_rel[2]-adj\n",
    "        if(prio<=max_tier):\n",
    "            result.append([cell.cid,cell.bcch,cell.bsic,clashed_cell.cid,site_site_rel[0],prio])\n",
    "            "
   ]
  },
  {
   "cell_type": "code",
   "execution_count": 7,
   "id": "c843e979",
   "metadata": {},
   "outputs": [],
   "source": [
    "pd.DataFrame(result,columns=('cell1','bcch','bsic','cell2','dist','prirority (0-10)')).to_csv('BCCH_BSIC Clash.csv',index=False)"
   ]
  },
  {
   "cell_type": "code",
   "execution_count": 20,
   "id": "644ec9a6",
   "metadata": {},
   "outputs": [],
   "source": [
    "pd.DataFrame(result).to_csv(\"bcch_bsic.csv\")"
   ]
  },
  {
   "cell_type": "code",
   "execution_count": 11,
   "id": "73662d9c",
   "metadata": {},
   "outputs": [],
   "source": [
    "result_df=pd.DataFrame(result,columns=('cell1','bcch','bsic','cell2','dist','prio'))   \n",
    "result_df.sort_values(by='prio',inplace=True)\n"
   ]
  },
  {
   "cell_type": "code",
   "execution_count": 14,
   "id": "78af342b",
   "metadata": {},
   "outputs": [],
   "source": [
    "src=int(result_df.iloc[0]['cell1'])\n",
    "tgt=int(result_df.iloc[0]['cell2'])\n"
   ]
  },
  {
   "cell_type": "code",
   "execution_count": 17,
   "id": "b1b5356b",
   "metadata": {},
   "outputs": [
    {
     "data": {
      "text/plain": [
       "18513"
      ]
     },
     "execution_count": 17,
     "metadata": {},
     "output_type": "execute_result"
    }
   ],
   "source": [
    "src"
   ]
  },
  {
   "cell_type": "code",
   "execution_count": 19,
   "id": "72ecf885",
   "metadata": {},
   "outputs": [
    {
     "data": {
      "text/html": [
       "<div>\n",
       "<style scoped>\n",
       "    .dataframe tbody tr th:only-of-type {\n",
       "        vertical-align: middle;\n",
       "    }\n",
       "\n",
       "    .dataframe tbody tr th {\n",
       "        vertical-align: top;\n",
       "    }\n",
       "\n",
       "    .dataframe thead th {\n",
       "        text-align: right;\n",
       "    }\n",
       "</style>\n",
       "<table border=\"1\" class=\"dataframe\">\n",
       "  <thead>\n",
       "    <tr style=\"text-align: right;\">\n",
       "      <th></th>\n",
       "      <th>site</th>\n",
       "      <th>Band</th>\n",
       "      <th>cell</th>\n",
       "      <th>Latitude</th>\n",
       "      <th>Longitude</th>\n",
       "      <th>Azimuth</th>\n",
       "      <th>BCCH</th>\n",
       "      <th>NCC</th>\n",
       "      <th>BCC</th>\n",
       "      <th>BSIC</th>\n",
       "    </tr>\n",
       "  </thead>\n",
       "  <tbody>\n",
       "    <tr>\n",
       "      <th>0</th>\n",
       "      <td>1000</td>\n",
       "      <td>900</td>\n",
       "      <td>10001</td>\n",
       "      <td>24.848440</td>\n",
       "      <td>46.825190</td>\n",
       "      <td>20</td>\n",
       "      <td>47</td>\n",
       "      <td>1</td>\n",
       "      <td>1</td>\n",
       "      <td>11</td>\n",
       "    </tr>\n",
       "    <tr>\n",
       "      <th>1</th>\n",
       "      <td>1000</td>\n",
       "      <td>900</td>\n",
       "      <td>10002</td>\n",
       "      <td>24.848440</td>\n",
       "      <td>46.825190</td>\n",
       "      <td>110</td>\n",
       "      <td>45</td>\n",
       "      <td>4</td>\n",
       "      <td>2</td>\n",
       "      <td>42</td>\n",
       "    </tr>\n",
       "    <tr>\n",
       "      <th>2</th>\n",
       "      <td>1000</td>\n",
       "      <td>900</td>\n",
       "      <td>10003</td>\n",
       "      <td>24.848440</td>\n",
       "      <td>46.825190</td>\n",
       "      <td>280</td>\n",
       "      <td>4</td>\n",
       "      <td>1</td>\n",
       "      <td>0</td>\n",
       "      <td>10</td>\n",
       "    </tr>\n",
       "    <tr>\n",
       "      <th>3</th>\n",
       "      <td>100</td>\n",
       "      <td>900</td>\n",
       "      <td>1001</td>\n",
       "      <td>24.586524</td>\n",
       "      <td>46.780306</td>\n",
       "      <td>0</td>\n",
       "      <td>42</td>\n",
       "      <td>6</td>\n",
       "      <td>1</td>\n",
       "      <td>61</td>\n",
       "    </tr>\n",
       "    <tr>\n",
       "      <th>4</th>\n",
       "      <td>1001</td>\n",
       "      <td>900</td>\n",
       "      <td>10011</td>\n",
       "      <td>24.686750</td>\n",
       "      <td>46.674999</td>\n",
       "      <td>120</td>\n",
       "      <td>44</td>\n",
       "      <td>1</td>\n",
       "      <td>0</td>\n",
       "      <td>10</td>\n",
       "    </tr>\n",
       "    <tr>\n",
       "      <th>...</th>\n",
       "      <td>...</td>\n",
       "      <td>...</td>\n",
       "      <td>...</td>\n",
       "      <td>...</td>\n",
       "      <td>...</td>\n",
       "      <td>...</td>\n",
       "      <td>...</td>\n",
       "      <td>...</td>\n",
       "      <td>...</td>\n",
       "      <td>...</td>\n",
       "    </tr>\n",
       "    <tr>\n",
       "      <th>7813</th>\n",
       "      <td>648</td>\n",
       "      <td>900</td>\n",
       "      <td>6483</td>\n",
       "      <td>24.790787</td>\n",
       "      <td>46.652120</td>\n",
       "      <td>200</td>\n",
       "      <td>3</td>\n",
       "      <td>1</td>\n",
       "      <td>3</td>\n",
       "      <td>13</td>\n",
       "    </tr>\n",
       "    <tr>\n",
       "      <th>7814</th>\n",
       "      <td>6430</td>\n",
       "      <td>900</td>\n",
       "      <td>64301</td>\n",
       "      <td>24.070170</td>\n",
       "      <td>47.491840</td>\n",
       "      <td>0</td>\n",
       "      <td>1</td>\n",
       "      <td>0</td>\n",
       "      <td>1</td>\n",
       "      <td>1</td>\n",
       "    </tr>\n",
       "    <tr>\n",
       "      <th>7815</th>\n",
       "      <td>6430</td>\n",
       "      <td>900</td>\n",
       "      <td>64302</td>\n",
       "      <td>24.070170</td>\n",
       "      <td>47.491840</td>\n",
       "      <td>110</td>\n",
       "      <td>46</td>\n",
       "      <td>0</td>\n",
       "      <td>7</td>\n",
       "      <td>7</td>\n",
       "    </tr>\n",
       "    <tr>\n",
       "      <th>7816</th>\n",
       "      <td>6430</td>\n",
       "      <td>900</td>\n",
       "      <td>64303</td>\n",
       "      <td>24.070170</td>\n",
       "      <td>47.491840</td>\n",
       "      <td>220</td>\n",
       "      <td>40</td>\n",
       "      <td>0</td>\n",
       "      <td>1</td>\n",
       "      <td>1</td>\n",
       "    </tr>\n",
       "    <tr>\n",
       "      <th>7817</th>\n",
       "      <td>4571</td>\n",
       "      <td>900</td>\n",
       "      <td>45711</td>\n",
       "      <td>24.794090</td>\n",
       "      <td>46.643100</td>\n",
       "      <td>0</td>\n",
       "      <td>49</td>\n",
       "      <td>0</td>\n",
       "      <td>3</td>\n",
       "      <td>3</td>\n",
       "    </tr>\n",
       "  </tbody>\n",
       "</table>\n",
       "<p>7818 rows × 10 columns</p>\n",
       "</div>"
      ],
      "text/plain": [
       "      site  Band   cell   Latitude  Longitude  Azimuth  BCCH  NCC  BCC  BSIC\n",
       "0     1000   900  10001  24.848440  46.825190       20    47    1    1    11\n",
       "1     1000   900  10002  24.848440  46.825190      110    45    4    2    42\n",
       "2     1000   900  10003  24.848440  46.825190      280     4    1    0    10\n",
       "3      100   900   1001  24.586524  46.780306        0    42    6    1    61\n",
       "4     1001   900  10011  24.686750  46.674999      120    44    1    0    10\n",
       "...    ...   ...    ...        ...        ...      ...   ...  ...  ...   ...\n",
       "7813   648   900   6483  24.790787  46.652120      200     3    1    3    13\n",
       "7814  6430   900  64301  24.070170  47.491840        0     1    0    1     1\n",
       "7815  6430   900  64302  24.070170  47.491840      110    46    0    7     7\n",
       "7816  6430   900  64303  24.070170  47.491840      220    40    0    1     1\n",
       "7817  4571   900  45711  24.794090  46.643100        0    49    0    3     3\n",
       "\n",
       "[7818 rows x 10 columns]"
      ]
     },
     "execution_count": 19,
     "metadata": {},
     "output_type": "execute_result"
    }
   ],
   "source": [
    "cell_data"
   ]
  },
  {
   "cell_type": "code",
   "execution_count": 20,
   "id": "24bbcb7b",
   "metadata": {},
   "outputs": [
    {
     "data": {
      "text/html": [
       "<div>\n",
       "<style scoped>\n",
       "    .dataframe tbody tr th:only-of-type {\n",
       "        vertical-align: middle;\n",
       "    }\n",
       "\n",
       "    .dataframe tbody tr th {\n",
       "        vertical-align: top;\n",
       "    }\n",
       "\n",
       "    .dataframe thead th {\n",
       "        text-align: right;\n",
       "    }\n",
       "</style>\n",
       "<table border=\"1\" class=\"dataframe\">\n",
       "  <thead>\n",
       "    <tr style=\"text-align: right;\">\n",
       "      <th></th>\n",
       "      <th>site</th>\n",
       "      <th>Band</th>\n",
       "      <th>cell</th>\n",
       "      <th>Latitude</th>\n",
       "      <th>Longitude</th>\n",
       "      <th>Azimuth</th>\n",
       "      <th>BCCH</th>\n",
       "      <th>NCC</th>\n",
       "      <th>BCC</th>\n",
       "      <th>BSIC</th>\n",
       "    </tr>\n",
       "  </thead>\n",
       "  <tbody>\n",
       "    <tr>\n",
       "      <th>2220</th>\n",
       "      <td>1851</td>\n",
       "      <td>900</td>\n",
       "      <td>18513</td>\n",
       "      <td>24.670538</td>\n",
       "      <td>46.58564</td>\n",
       "      <td>330</td>\n",
       "      <td>48</td>\n",
       "      <td>2</td>\n",
       "      <td>0</td>\n",
       "      <td>20</td>\n",
       "    </tr>\n",
       "  </tbody>\n",
       "</table>\n",
       "</div>"
      ],
      "text/plain": [
       "      site  Band   cell   Latitude  Longitude  Azimuth  BCCH  NCC  BCC  BSIC\n",
       "2220  1851   900  18513  24.670538   46.58564      330    48    2    0    20"
      ]
     },
     "execution_count": 20,
     "metadata": {},
     "output_type": "execute_result"
    }
   ],
   "source": [
    "cell_data[cell_data['cell']==18513]"
   ]
  },
  {
   "cell_type": "code",
   "execution_count": 26,
   "id": "25050abc",
   "metadata": {},
   "outputs": [
    {
     "data": {
      "text/plain": [
       "24.670538"
      ]
     },
     "execution_count": 26,
     "metadata": {},
     "output_type": "execute_result"
    }
   ],
   "source": [
    "cell_data[cell_data['cell']==src][['Latitude','Longitude']].iloc[0][0]"
   ]
  },
  {
   "cell_type": "code",
   "execution_count": null,
   "id": "0f687d3b",
   "metadata": {},
   "outputs": [],
   "source": []
  },
  {
   "cell_type": "code",
   "execution_count": 18,
   "id": "daefa417",
   "metadata": {},
   "outputs": [
    {
     "data": {
      "text/plain": [
       "(3879.876978360458, 228.3821223913267, 5)"
      ]
     },
     "execution_count": 18,
     "metadata": {},
     "output_type": "execute_result"
    }
   ],
   "source": [
    "site_dict['5529']['4029']"
   ]
  },
  {
   "cell_type": "code",
   "execution_count": 21,
   "id": "f641a5bf",
   "metadata": {},
   "outputs": [
    {
     "name": "stderr",
     "output_type": "stream",
     "text": [
      "100%|█████████████████████████████████████████████████████████████████████████████| 7818/7818 [00:43<00:00, 178.97it/s]\n"
     ]
    }
   ],
   "source": [
    "result=[]\n",
    "max_tier=2\n",
    "for cell in tqdm(cell_list):\n",
    "    candid_cell_list=generate_candid_cell_list(cell,site_dict,max_tier)\n",
    "    curr_clashes=[res for res in candid_cell_list if(cell.isBcchClash(res))]\n",
    "    # Adjust tiering\n",
    "    for clashed_cell in curr_clashes:\n",
    "        site_site_rel=site_dict[str(int(cell.site))][str(int(clashed_cell.site))]\n",
    "        angle1=site_site_rel[1]-cell.azimuth\n",
    "        angle2=180+site_site_rel[1]-clashed_cell.azimuth\n",
    "        adj=math.cos(np.radians(angle1))+math.cos(np.radians(angle2))\n",
    "        prio=site_site_rel[2]-adj\n",
    "        if(prio<=max_tier):\n",
    "            result.append([cell.cid,cell.bcch,clashed_cell.cid,site_site_rel[0],prio])\n",
    "            "
   ]
  },
  {
   "cell_type": "code",
   "execution_count": 22,
   "id": "d646e4d2",
   "metadata": {},
   "outputs": [],
   "source": [
    "pd.DataFrame(result).to_csv(\"bcch.csv\")"
   ]
  },
  {
   "cell_type": "code",
   "execution_count": null,
   "id": "f09dd826",
   "metadata": {},
   "outputs": [],
   "source": []
  }
 ],
 "metadata": {
  "kernelspec": {
   "display_name": "Python 3 (ipykernel)",
   "language": "python",
   "name": "python3"
  },
  "language_info": {
   "codemirror_mode": {
    "name": "ipython",
    "version": 3
   },
   "file_extension": ".py",
   "mimetype": "text/x-python",
   "name": "python",
   "nbconvert_exporter": "python",
   "pygments_lexer": "ipython3",
   "version": "3.8.12"
  }
 },
 "nbformat": 4,
 "nbformat_minor": 5
}
